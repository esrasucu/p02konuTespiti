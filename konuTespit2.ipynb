{
  "nbformat": 4,
  "nbformat_minor": 0,
  "metadata": {
    "colab": {
      "provenance": [],
      "authorship_tag": "ABX9TyM5x13XO4Qqb6qYKmPd/vdQ",
      "include_colab_link": true
    },
    "kernelspec": {
      "name": "python3",
      "display_name": "Python 3"
    },
    "language_info": {
      "name": "python"
    }
  },
  "cells": [
    {
      "cell_type": "markdown",
      "metadata": {
        "id": "view-in-github",
        "colab_type": "text"
      },
      "source": [
        "<a href=\"https://colab.research.google.com/github/esrasucu/p02konuTespiti/blob/main/konuTespit2.ipynb\" target=\"_parent\"><img src=\"https://colab.research.google.com/assets/colab-badge.svg\" alt=\"Open In Colab\"/></a>"
      ]
    },
    {
      "cell_type": "code",
      "execution_count": null,
      "metadata": {
        "id": "Ox4iApFRxwDp"
      },
      "outputs": [],
      "source": [
        "###Kütüphaneli konu tespiti"
      ]
    },
    {
      "cell_type": "code",
      "source": [
        "!pip install nltk==3.8.1\n",
        "import nltk\n",
        "nltk.download('punkt')                  ##punkt tokenleştirme için\n",
        "nltk.download('stopwords')              ##stopwords gereksiz kelimeleri çıkarmak için\n",
        "from nltk.tokenize import word_tokenize\n",
        "from nltk.corpus import stopwords"
      ],
      "metadata": {
        "colab": {
          "base_uri": "https://localhost:8080/"
        },
        "collapsed": true,
        "id": "vdcoL3KRx7i3",
        "outputId": "bb0b28bb-4437-4a3b-9267-9334dd023aab"
      },
      "execution_count": null,
      "outputs": [
        {
          "output_type": "stream",
          "name": "stdout",
          "text": [
            "Requirement already satisfied: nltk==3.8.1 in /usr/local/lib/python3.10/dist-packages (3.8.1)\n",
            "Requirement already satisfied: click in /usr/local/lib/python3.10/dist-packages (from nltk==3.8.1) (8.1.7)\n",
            "Requirement already satisfied: joblib in /usr/local/lib/python3.10/dist-packages (from nltk==3.8.1) (1.4.2)\n",
            "Requirement already satisfied: regex>=2021.8.3 in /usr/local/lib/python3.10/dist-packages (from nltk==3.8.1) (2024.9.11)\n",
            "Requirement already satisfied: tqdm in /usr/local/lib/python3.10/dist-packages (from nltk==3.8.1) (4.66.6)\n"
          ]
        },
        {
          "output_type": "stream",
          "name": "stderr",
          "text": [
            "[nltk_data] Downloading package punkt to /root/nltk_data...\n",
            "[nltk_data]   Package punkt is already up-to-date!\n",
            "[nltk_data] Downloading package stopwords to /root/nltk_data...\n",
            "[nltk_data]   Package stopwords is already up-to-date!\n"
          ]
        }
      ]
    },
    {
      "cell_type": "code",
      "source": [
        "eglence_kelimeler = [ \"oyun\",\"konsol\",\"park\",\"sinema\",\"tv\",\"dizi\",\"film\",\"arkadaş\",\"oyuncak\",\"lunapark\",\"gezi\",\"eğlenmek\",\"tur\",\"seyahat\",\"tatil\",\"otel\",\"aktivite\",\"birlikte\",\"oyun oynamak\",\"müzik\",\"sanat\",\"eğlence\",\"konser\",\"video\",\"keyifli\",\"komedi\",\"aksiyon\",\"animasyon\",\"video oyunları\",\"sahne\",\"stand-up\",\"konuşmacı\",\"canlı müzik\",\"sokak sanatçısı\",\"parti\",\"DJ\",\"mekan\",\"pop\",\"içki\",\"gülmek\",\"gece klübü\",\"klüp\",\"şov\"]\n",
        "siyaset_kelimeler = [ \"seçim\",\"parti\",\"hükümet\",\"oy\",\"siyaset\",\"aday\",\"anayasa\",\"referandum\",\"seçmen\",\"iktidar\",\"muhalefet\",\"demokrasi\",\"parlamenter\",\"cumhurbaşkanı\",\"başkan\",\"milletvekili\",\"bakan\",\"yasama\",\"yürütme\" ,\" yargı\",\"devlet\",\"partiler\",\"halk\",\"propoganda\",\"sandık\",\"kamuoyu\",\"miting\",\"yoksulluk\",\"işsizlik\",\"liderlik\",\"egemenlik\",\"millet\",\"ekonomi\",\"yönetim\",\"terörizm\",\"bağımsızlık\",\"ordu\",\"barış\",\"yönetim\",\"muhalefet\",\"anayasa\",\"sosyalizm\",\"demokrasi\",\"ordu\",\"yönetim\"]\n",
        "spor_kelimeler = [ \"spor\",\"sporcu\",\"amatör\",\"atletizm\",\"şampiyon\",\"koç\",\"saha\",\"kupa\",\"beraberlik\",\"yenmek\",\"yenilgi\",\"taraftar\",\"salon\",\"hakem\",\"lig\",\"ofsayyt\",\"penaltı\",\"idman\",\"rekor\",\"kural\",\"gol\",\"seyirci\",\"yetenek\",\"stadyum\",\"turnuva\",\"futbol\",\"basketbol\",\"voleybol\",\"güreş\",\"olimpiyat\",\"düdük\",\"galibiyet\",\"penaltı\",\"koşu\",\"yüzme\",\"kayak\",\"golf\",\"tenis\",\"spor hekimliği\",\"sporcu\",\"atletik\",\"maç\",\"final\",\"yarı final\",\"mücadele\",\"basın\",\"turnuva\",\"sakatlık\",\"egzersiz\",\"sağlıklı yaşam\",\"diyet\",\"analiz\",\"takım ruhu\",\"kabiliyet\",\"takım çalışması\",\"spor bülteni\"]\n",
        "teknoloji_kelimeler = [ \"teknoloji\",\"bilgisayar\",\"bilim\",\"yazılım\",\"donanım\",\"üretim\",\"yenilik\",\"internet\",\"sosyal medya\",\"sanayi devrimi\",\"radyasyon\",\"web\",\"teknik\",\"yönetici\",\"gelişmiş\",\"algoritma\",\"antivurus\",\"uygulama\",\"yapay zeka\",\"otonom\",\"kablo\",\"taşıyıcı\",\"kod\",\"bileşen\",\"bağlantı\",\"kontrol\",\"veri\",\"veri tabanı\",\"cihaz\",\"dijital\",\"alan adı\",\" eposta\",\"dosya\",\"grafik\",\"çözünürlük\",\"arayüz\",\"internet\",\"klavye\",\"lazer\",\"robotik\",\"ağ\",\"bulut\",\"oyun\",\"kripto\",\"sanal gerçeklik\",\"şirket\",\"5G\",\"siber güvenlik\",\"HTML\",\"bağlantı\",\"python\",\"e ticaret\",\"web gwliştirme\", \"javascript\"]\n",
        "saglık_kelimeler = [ \"hasta\",\"hastalık\",\"bulaşıcı\",\"sağlık\",\"sağlıkçı\",\"enfeksiyon\",\"dezenfekte\",\"entübe\",\"hijyen\",\"hijyenik\",\"izolasyon\",\"karantina\",\"mutasyon\",\"pandemi\",\"maske\",\"semptom\",\"sosyal mesafe\",\"vaka\",\"virüs\",\"temas\",\"ambulans\",\"hastane\",\"anestezi\",\"ateş\",\"randevu\",\"tansiyon\",\"şeker\",\"kanser\",\"bulaşıcı hastalık\",\"kan\",\"yanık\",\"alçı\",\"kronik\",\"tedavi\",\"krem\",\"diş doktoru\",\"doktor\",\"hemşire\",\"cildiye\",\"tanı\",\"doz\",\"yara\",\"bandaj\",\"pansuman\",\"acil servis\",\"muayene\",\"iyileşme\",\"aile hekimi\",\"yaşlanma\",\"metabolizma\",\"vitamin\",\"kalp\",\"tarama\"]\n",
        "\n",
        "topic_kelimeler = {\n",
        "    \"eğlence\": eglence_kelimeler,\n",
        "    \"siyaset\": siyaset_kelimeler,\n",
        "    \"spor\": spor_kelimeler,\n",
        "    \"teknoloji\": teknoloji_kelimeler,\n",
        "    \"sağlık\": saglık_kelimeler\n",
        "}"
      ],
      "metadata": {
        "id": "PaWunMba6GEE"
      },
      "execution_count": null,
      "outputs": []
    },
    {
      "cell_type": "code",
      "source": [
        "def classify_text(text):\n",
        "  tokens = word_tokenize(text.lower())\n",
        "  filtered_tokens = [w for w in tokens if w not in stopwords.words('turkish') and w.isalnum()]\n",
        "\n",
        "  topic_scores = {topic: 0 for topic in topic_kelimeler}\n",
        "  for token in filtered_tokens:\n",
        "    for topic, kelimeler in topic_kelimeler.items():\n",
        "      if token in kelimeler:\n",
        "        topic_scores[topic] += 1\n",
        "\n",
        "  predicted_topic = max(topic_scores, key=topic_scores.get)\n",
        "  return predicted_topic\n",
        "\n",
        "text = input(\"Lütfen bir metin giriniz: \")\n",
        "predicted_topic = classify_text(text)\n",
        "print(f\"Girdiğiniz metnin konusu: {predicted_topic}\")\n"
      ],
      "metadata": {
        "colab": {
          "base_uri": "https://localhost:8080/"
        },
        "collapsed": true,
        "id": "pBys6kX964cC",
        "outputId": "0cb647d9-949e-4887-f9c8-3c5e8236a915"
      },
      "execution_count": null,
      "outputs": [
        {
          "output_type": "stream",
          "name": "stdout",
          "text": [
            "Lütfen bir metin giriniz: son günlerde bilgisayar başında fazla duruyorum.\n",
            "Girdiğiniz metnin konusu: teknoloji\n"
          ]
        }
      ]
    }
  ]
}