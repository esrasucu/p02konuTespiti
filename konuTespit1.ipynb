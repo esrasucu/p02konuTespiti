{
  "nbformat": 4,
  "nbformat_minor": 0,
  "metadata": {
    "colab": {
      "provenance": [],
      "authorship_tag": "ABX9TyOg5nqqEBeYeqT68WBevDpI",
      "include_colab_link": true
    },
    "kernelspec": {
      "name": "python3",
      "display_name": "Python 3"
    },
    "language_info": {
      "name": "python"
    }
  },
  "cells": [
    {
      "cell_type": "markdown",
      "metadata": {
        "id": "view-in-github",
        "colab_type": "text"
      },
      "source": [
        "<a href=\"https://colab.research.google.com/github/esrasucu/p02konuTespiti/blob/main/konuTespit1.ipynb\" target=\"_parent\"><img src=\"https://colab.research.google.com/assets/colab-badge.svg\" alt=\"Open In Colab\"/></a>"
      ]
    },
    {
      "cell_type": "code",
      "execution_count": null,
      "metadata": {
        "id": "LIk9u6JtDQvq"
      },
      "outputs": [],
      "source": [
        "###kütüphanesiz konu tespiti"
      ]
    },
    {
      "cell_type": "code",
      "source": [
        "#konular için örnek kelimeler\n",
        "\n",
        "siyaset_kelimeler = { \"seçim\",\"parti\",\"hükümet\",\"oy\",\"siyaset\",\"aday\",\"anayasa\",\"referandum\",\"seçmen\",\"iktidar\",\"muhalefet\",\"demokrasi\",\"parlamenter\",\"cumhurbaşkanı\",\"başkan\",\"milletvekili\",\"bakan\",\"yasama\",\"yürütme\" ,\" yargı\",\"devlet\",\"partiler\",\"halk\",\"propoganda\",\"sandık\",\"kamuoyu\",\"miting\",\"yoksulluk\",\"işsizlik\",\"liderlik\",\"egemenlik\",\"millet\",\"ekonomi\",\"yönetim\",\"terörizm\",\"bağımsızlık\",\"ordu\",\"barış\",\"yönetim\",\"muhalefet\",\"anayasa\",\"sosyalizm\",\"demokrasi\",\"ordu\",\"yönetim\"}\n",
        "teknoloji_kelimeler = { \"teknoloji\",\"bilgisayar\",\"bilim\",\"yazılım\",\"donanım\",\"üretim\",\"yenilik\",\"internet\",\"sosyal medya\",\"sanayi devrimi\",\"radyasyon\",\"web\",\"teknik\",\"yönetici\",\"gelişmiş\",\"algoritma\",\"antivurus\",\"uygulama\",\"yapay zeka\",\"otonom\",\"kablo\",\"taşıyıcı\",\"kod\",\"bileşen\",\"bağlantı\",\"kontrol\",\"veri\",\"veri tabanı\",\"cihaz\",\"dijital\",\"alan adı\",\" eposta\",\"dosya\",\"grafik\",\"çözünürlük\",\"arayüz\",\"internet\",\"klavye\",\"lazer\",\"robotik\",\"ağ\",\"bulut\",\"oyun\",\"kripto\",\"sanal gerçeklik\",\"şirket\",\"5G\",\"siber güvenlik\",\"HTML\",\"bağlantı\",\"python\",\"e ticaret\",\"web gwliştirme\", \"javascript\"}\n",
        "spor_kelimeler ={\"spor\",\"sporcu\",\"amatör\",\"atletizm\",\"şampiyon\",\"koç\",\"saha\",\"kupa\",\"beraberlik\",\"yenmek\",\"yenilgi\",\"taraftar\",\"salon\",\"hakem\",\"lig\",\"ofsayyt\",\"penaltı\",\"idman\",\"rekor\",\"kural\",\"gol\",\"seyirci\",\"yetenek\",\"stadyum\",\"turnuva\",\"futbol\",\"basketbol\",\"voleybol\",\"güreş\",\"olimpiyat\",\"düdük\",\"galibiyet\",\"penaltı\",\"koşu\",\"yüzme\",\"kayak\",\"golf\",\"tenis\",\"spor hekimliği\",\"sporcu\",\"atletik\",\"maç\",\"final\",\"yarı final\",\"mücadele\",\"basın\",\"turnuva\",\"sakatlık\",\"egzersiz\",\"sağlıklı yaşam\",\"diyet\",\"analiz\",\"takım ruhu\",\"kabiliyet\",\"takım çalışması\",\"spor bülteni\"}\n",
        "saglık_kelimeler = {\"hasta\",\"hastalık\",\"bulaşıcı\",\"sağlık\",\"sağlıkçı\",\"enfeksiyon\",\"dezenfekte\",\"entübe\",\"hijyen\",\"hijyenik\",\"izolasyon\",\"karantina\",\"mutasyon\",\"pandemi\",\"maske\",\"semptom\",\"sosyal mesafe\",\"vaka\",\"virüs\",\"temas\",\"ambulans\",\"hastane\",\"anestezi\",\"ateş\",\"randevu\",\"tansiyon\",\"şeker\",\"kanser\",\"bulaşıcı hastalık\",\"kan\",\"yanık\",\"alçı\",\"kronik\",\"tedavi\",\"krem\",\"diş doktoru\",\"doktor\",\"hemşire\",\"cildiye\",\"tanı\",\"doz\",\"yara\",\"bandaj\",\"pansuman\",\"acil servis\",\"muayene\",\"iyileşme\",\"aile hekimi\",\"yaşlanma\",\"metabolizma\",\"vitamin\",\"kalp\",\"tarama\"}\n",
        "eglence_kelimeler = { \"oyun\",\"konsol\",\"park\",\"sinema\",\"tv\",\"dizi\",\"film\",\"arkadaş\",\"oyuncak\",\"lunapark\",\"gezi\",\"eğlenmek\",\"tur\",\"seyahat\",\"tatil\",\"otel\",\"aktivite\",\"birlikte\",\"oyun oynamak\",\"müzik\",\"sanat\",\"eğlence\",\"konser\",\"video\",\"keyifli\",\"komedi\",\"aksiyon\",\"animasyon\",\"video oyunları\",\"sahne\",\"stand-up\",\"konuşmacı\",\"canlı müzik\",\"sokak sanatçısı\",\"parti\",\"DJ\",\"mekan\",\"pop\",\"içki\",\"gülmek\",\"gece klübü\",\"klüp\",\"şov\",}"
      ],
      "metadata": {
        "id": "RR87GJRiDZiD"
      },
      "execution_count": null,
      "outputs": []
    },
    {
      "cell_type": "code",
      "source": [
        "konular_keywords = {\n",
        "    \"siyaset\":siyaset_kelimeler,\n",
        "    \"teknoloji\":teknoloji_kelimeler,\n",
        "    \"spor\":spor_kelimeler,\n",
        "    \"saglik\":saglık_kelimeler,\n",
        "    \"eglence\":eglence_kelimeler }"
      ],
      "metadata": {
        "id": "kuDC6uFeRbXL"
      },
      "execution_count": null,
      "outputs": []
    },
    {
      "cell_type": "code",
      "source": [
        "def duzenle(metin):\n",
        "  metin = metin.lower()\n",
        "  words = ()\n",
        "  for char in metin:\n",
        "    if char is isalpha() or char.isspace():\n",
        "      words += char\n",
        "    else :\n",
        "      words += \" \"\n",
        "  words = words.split()\n",
        "  return words\n",
        "\n",
        "\n",
        "def tahmin_et(words):\n",
        "  konu_skorlari = {}\n",
        "  for konu, keywords in subject_keywords.items():\n",
        "    konu_skorlari[konu] = 0\n",
        "    for word in words:\n",
        "      if word in keywords:\n",
        "        konu_skorlari[konu] += 1\n",
        "    konu_skorlari[konu] = konu_skorlari[konu] / len(words)\n",
        "\n",
        "  tahmin_edilen_konu = max(konu_skorlari, key=konu_skorlari.get)\n",
        "  if konu_skorlari[tahmin_edilen_konu] == 0:\n",
        "    tahmin_edilen_konu = \"diğer konular\"\n",
        "\n",
        "  return tahmin_edilen_konu\n",
        "\n",
        "metin = input(\"bir metin giriniz: \")\n",
        "words = duzenle(metin)\n",
        "tahmin_edilen_konu = tahmin_et(words)\n",
        "print(\"Tahmin edilen konu: \", tahmin_edilen_konu)\n"
      ],
      "metadata": {
        "id": "rDTHnyupR5Ya"
      },
      "execution_count": null,
      "outputs": []
    }
  ]
}